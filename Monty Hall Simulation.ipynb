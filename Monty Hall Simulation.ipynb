{
 "cells": [
  {
   "cell_type": "markdown",
   "id": "frank-spending",
   "metadata": {},
   "source": [
    "# Monty Hall Problem\n",
    "This project will simulate the [Monty Hall problem ](https://en.wikipedia.org/wiki/Monty_Hall_problem).\n",
    "\n",
    "> Suppose you're on a game show, and you're given the choice of three doors: Behind one door is a car; behind the others, goats. You pick a door, say No. 1, and the host, who knows what's behind the doors, opens another door, say No. 3, which has a goat. He then says to you, \"Do you want to pick door No. 2?\" Is it to your advantage to switch your choice?\n",
    ">\n",
    "> -- <cite>https://en.wikipedia.org/wiki/Monty_Hall_problem</cite>\n",
    "\n",
    "A simple solution using conditional probability shows that the player has a 2/3 chance of winning if they switch.\n",
    "\n",
    "In this case study, we will prove this to be true in the long run through random experiments and then comparing the outcome of switching or not switching doors.\n",
    "\n",
    "Project idea from [Super Data Science workshop](https://www.superdatascience.com/workshops/workshop-037-python-monty-hall-probabilities-trial?utm_source=ontraport&utm_medium=email&utm_campaign=workshop_promo_2)"
   ]
  },
  {
   "cell_type": "markdown",
   "id": "together-inquiry",
   "metadata": {},
   "source": [
    "# Import Libraries"
   ]
  },
  {
   "cell_type": "code",
   "execution_count": 61,
   "id": "liberal-vacation",
   "metadata": {},
   "outputs": [],
   "source": [
    "import random\n",
    "from collections import defaultdict\n",
    "import matplotlib.pyplot as plt"
   ]
  },
  {
   "cell_type": "markdown",
   "id": "competitive-description",
   "metadata": {},
   "source": [
    "# Game Functions"
   ]
  },
  {
   "cell_type": "markdown",
   "id": "naked-frederick",
   "metadata": {},
   "source": [
    "## Creates New Game"
   ]
  },
  {
   "cell_type": "code",
   "execution_count": 2,
   "id": "recreational-taxation",
   "metadata": {},
   "outputs": [],
   "source": [
    "def newGame():\n",
    "    # Randomly assigns one of the doors to have the prize and the remaining\n",
    "    # doors to have goats. Returns a dict with door number as the key and\n",
    "    # whatever's behind it as the value.\n",
    "\n",
    "    # randomly select integer between 1 and 3\n",
    "    prize_door = random.randint(1, 3)\n",
    "\n",
    "    # dictionary to hold door values\n",
    "    doors = dict()\n",
    "\n",
    "    # loop through 1-3\n",
    "    for x in range(1, 4):\n",
    "        # if x is the prize door, set value to prize\n",
    "        if x == prize_door:\n",
    "            doors[f'door{x}'] = 'prize'\n",
    "        # else set value to goat\n",
    "        else:\n",
    "            doors[f'door{x}'] = 'goat'\n",
    "\n",
    "    return doors"
   ]
  },
  {
   "cell_type": "markdown",
   "id": "regulated-welding",
   "metadata": {},
   "source": [
    "## Guest Chooses a Door"
   ]
  },
  {
   "cell_type": "code",
   "execution_count": 3,
   "id": "touched-vector",
   "metadata": {},
   "outputs": [],
   "source": [
    "def guestChoice():\n",
    "    # Randomly chooses one door, like the contestant on the game show. Returns\n",
    "    # the chosen door\n",
    "\n",
    "    # randomly select integer between 1 and 3\n",
    "    door_number = random.randint(1, 3)\n",
    "    door_chosen = f'door{door_number}'\n",
    "\n",
    "    return door_chosen"
   ]
  },
  {
   "cell_type": "markdown",
   "id": "blocked-working",
   "metadata": {},
   "source": [
    "## Host Opens a Door\n",
    "\n",
    "The host opens one of the doors - but not the door with the prize nor the door that was chosen by the contestant."
   ]
  },
  {
   "cell_type": "code",
   "execution_count": 4,
   "id": "ordered-tampa",
   "metadata": {},
   "outputs": [],
   "source": [
    "def openOneDoor(game, chosen_door):\n",
    "    # Receives as input the created game and door chosen by the contestant and\n",
    "    # randomly 'opens' one of the doors - but not the door with the prize nor the\n",
    "    # door that was chosen by the contestant. Returns a modified dict with the\n",
    "    # value of the open door as 'open'\n",
    "    \n",
    "    # list of all doors\n",
    "    all_doors = list(game.keys())\n",
    "\n",
    "    # Remove chosen door and prize door from list of doors\n",
    "    choice_doors = [x for x in all_doors if x != chosen_door and\n",
    "        game[x] != 'prize']\n",
    "\n",
    "    # Randomly select a door from choice_doors\n",
    "    opened_door = random.choice(choice_doors)\n",
    "\n",
    "    # Update dict with 'open' for chosen door\n",
    "    game[opened_door] = 'open'\n",
    "\n",
    "    return game"
   ]
  },
  {
   "cell_type": "markdown",
   "id": "fossil-platform",
   "metadata": {},
   "source": [
    "## Guest Switches Doors\n",
    "The guest switches their choice from their current choice to the remaining unopened door."
   ]
  },
  {
   "cell_type": "code",
   "execution_count": 5,
   "id": "other-ownership",
   "metadata": {},
   "outputs": [],
   "source": [
    "def guestChange(game, chosen_door):\n",
    "    # Receives as input the created game and door chosen by the contestant and\n",
    "    # switches the chosen door from the current door to the other closed door\n",
    "\n",
    "    # list of doors\n",
    "    doors = list(game.keys())\n",
    "\n",
    "    # select new door that is not open and not already chosen\n",
    "    new_door = [x for x in doors if game[x] != 'open'\n",
    "        and x != chosen_door][0]\n",
    "\n",
    "    return new_door"
   ]
  },
  {
   "cell_type": "markdown",
   "id": "tender-evolution",
   "metadata": {},
   "source": [
    "## Checks Result"
   ]
  },
  {
   "cell_type": "code",
   "execution_count": 6,
   "id": "forward-spring",
   "metadata": {},
   "outputs": [],
   "source": [
    "def checkResult(game, chosen_door):\n",
    "    # Receives as input a created game and a door and returns 'win' if the\n",
    "    # chosen door contains the prize. Otherwise, returns 'loss'.\n",
    "\n",
    "    if game[chosen_door] == 'prize':\n",
    "        return 'win'\n",
    "    else:\n",
    "        return 'loss'"
   ]
  },
  {
   "cell_type": "markdown",
   "id": "classical-defeat",
   "metadata": {},
   "source": [
    "# Play a Single Game and Get Result"
   ]
  },
  {
   "cell_type": "code",
   "execution_count": 7,
   "id": "private-bleeding",
   "metadata": {},
   "outputs": [],
   "source": [
    "def play_game():\n",
    "    # Simulates game play and returns result of game\n",
    "\n",
    "    # Creates a new game\n",
    "    game = newGame()\n",
    "\n",
    "    # Simulates a guest choice\n",
    "    choice = guestChoice()\n",
    "\n",
    "    # Opens one door\n",
    "    opened = openOneDoor(game, choice)\n",
    "\n",
    "    # Changes the door to the other unopened door\n",
    "    changed = guestChange(opened, choice)\n",
    "\n",
    "    # checks the result for the changed choice\n",
    "    result = checkResult(opened, changed)\n",
    "\n",
    "    return result"
   ]
  },
  {
   "cell_type": "markdown",
   "id": "warming-amsterdam",
   "metadata": {},
   "source": [
    "# Long Run Simulation\n",
    "We will run a simulation of n games and track the percentage of winning for both switching and keeping the door. Since there are only 3 doors, and the opened door is not chosen nor a prize, we can conclude that if the result is 'loss' then the contestant would have won by not switching and vice versa."
   ]
  },
  {
   "cell_type": "code",
   "execution_count": 8,
   "id": "behavioral-badge",
   "metadata": {},
   "outputs": [],
   "source": [
    "def simulation(num_games=100):\n",
    "    # Simulates num_games games and returns results of winning for switching\n",
    "    # and not switching\n",
    "    \n",
    "    # Default dictionary for storing wins of switching and not switching\n",
    "    results = defaultdict(int)\n",
    "    \n",
    "    # Loops through number of games\n",
    "    for x in range(num_games):\n",
    "        \n",
    "        # Plays a game and gets the result\n",
    "        result = play_game()\n",
    "        \n",
    "        # Updates dictionary with number of wins for switching vs not \n",
    "        # switching (result='loss')\n",
    "        if result == \"win\":\n",
    "            results['switch_wins'] += 1\n",
    "        else:\n",
    "            results['not_switch_wins'] += 1\n",
    "    \n",
    "    return results\n",
    "    "
   ]
  },
  {
   "cell_type": "code",
   "execution_count": 62,
   "id": "upper-finder",
   "metadata": {},
   "outputs": [],
   "source": [
    "def print_results(results):\n",
    "    # Receives results as input and prints results and graph\n",
    "    \n",
    "    # Gets the total number of games\n",
    "    total_games = sum(list(results.values()))\n",
    "    \n",
    "    switch_wins = results['switch_wins']\n",
    "    switch_percent = switch_wins / total_games\n",
    "    \n",
    "    not_switch_wins = results['not_switch_wins']\n",
    "    not_switch_percent = not_switch_wins / total_games\n",
    "    \n",
    "    \n",
    "    print(f\"{'Switching Wins:':>20}{switch_percent:>10} ({switch_wins})\")\n",
    "    print(f\"{'Not Switching Wins:':>20}{not_switch_percent:>10} ({not_switch_wins})\")\n",
    "    print(f\"{'Total Games:':>20}{total_games:>17}\")\n",
    "    \n",
    "    fig = plt.figure()\n",
    "    labels = ['Switching', 'Not Switching']\n",
    "    vals = [switch_wins, not_switch_wins]\n",
    "    ax = fig.add_axes([0,0,1,1])\n",
    "    ax.bar(labels, vals)\n",
    "    plt.show()"
   ]
  },
  {
   "cell_type": "markdown",
   "id": "intellectual-onion",
   "metadata": {},
   "source": [
    "## Single Simulation\n",
    "\n",
    "Here we'll do a single simulation and see the results."
   ]
  },
  {
   "cell_type": "code",
   "execution_count": 64,
   "id": "cardiac-invention",
   "metadata": {},
   "outputs": [
    {
     "name": "stdout",
     "output_type": "stream",
     "text": [
      "     Switching Wins:    0.6646 (6646)\n",
      " Not Switching Wins:    0.3354 (3354)\n",
      "        Total Games:            10000\n"
     ]
    },
    {
     "data": {
      "image/png": "[encoded data removed]",
      "text/plain": [
       "<Figure size 432x288 with 1 Axes>"
      ]
     },
     "metadata": {
      "needs_background": "light"
     },
     "output_type": "display_data"
    }
   ],
   "source": [
    "#num_games = int(input(\"Enter the number of games for this simulation: \"))\n",
    "results = simulation(num_games=10000)\n",
    "print_results(results)"
   ]
  },
  {
   "cell_type": "markdown",
   "id": "applied-simpson",
   "metadata": {},
   "source": [
    "Like the conditional probability solution states, here you aslo have a 2/3 (66%) likelihood of winning if you switch doors."
   ]
  },
  {
   "cell_type": "markdown",
   "id": "spare-wildlife",
   "metadata": {},
   "source": [
    "## Multiple Simulations\n",
    "\n",
    "Now, let's do multiple simulations, each with a different number of games and see how the winning percentage for switching changes as the number of games increases."
   ]
  },
  {
   "cell_type": "code",
   "execution_count": 65,
   "id": "hybrid-blogger",
   "metadata": {},
   "outputs": [],
   "source": [
    "def multiple_sims(n_games_vals):\n",
    "    # Multiple simulations to see how results change as n gets larger\n",
    "    \n",
    "    sims_percents = dict()\n",
    "    \n",
    "    for n in n_games_vals:\n",
    "        results = simulation(n)\n",
    "        percent_wins = results['switch_wins'] / n\n",
    "        sims_percents[n] = percent_wins\n",
    "        \n",
    "    return sims_percents"
   ]
  },
  {
   "cell_type": "code",
   "execution_count": 85,
   "id": "dietary-requirement",
   "metadata": {},
   "outputs": [],
   "source": [
    "def print_multiple_results(multiple_results):\n",
    "    fig = plt.figure()\n",
    "    labels = list(multiple_results.keys())\n",
    "    vals = list(multiple_results.values())\n",
    "    plt.plot(labels, vals)\n",
    "    plt.show()"
   ]
  },
  {
   "cell_type": "code",
   "execution_count": 90,
   "id": "human-auction",
   "metadata": {},
   "outputs": [],
   "source": [
    "n_games_vals = [10, 100, 1000, 10000, 100000, 1000000]\n",
    "multiple_results = multiple_sims(n_games_vals)"
   ]
  },
  {
   "cell_type": "code",
   "execution_count": 92,
   "id": "protective-january",
   "metadata": {},
   "outputs": [
    {
     "data": {
      "image/png": "[encoded data removed]",
      "text/plain": [
       "<Figure size 432x288 with 1 Axes>"
      ]
     },
     "metadata": {
      "needs_background": "light"
     },
     "output_type": "display_data"
    }
   ],
   "source": [
    "print_multiple_results(multiple_results)"
   ]
  },
  {
   "cell_type": "markdown",
   "id": "continuous-drunk",
   "metadata": {},
   "source": [
    "Wee see that the percentage for switching plateaus pretty quickly at around 0.667 which agrees with the conditional probability solution.\n",
    "\n",
    "You should switch doors!"
   ]
  }
 ],
 "metadata": {
  "kernelspec": {
   "display_name": "Python 3",
   "language": "python",
   "name": "python3"
  },
  "language_info": {
   "codemirror_mode": {
    "name": "ipython",
    "version": 3
   },
   "file_extension": ".py",
   "mimetype": "text/x-python",
   "name": "python",
   "nbconvert_exporter": "python",
   "pygments_lexer": "ipython3",
   "version": "3.8.3"
  }
 },
 "nbformat": 4,
 "nbformat_minor": 5
}
